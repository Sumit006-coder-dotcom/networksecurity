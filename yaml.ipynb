{
 "cells": [
  {
   "cell_type": "code",
   "execution_count": 3,
   "id": "849b6293",
   "metadata": {},
   "outputs": [
    {
     "name": "stdout",
     "output_type": "stream",
     "text": [
      "🔁 Watching for CSV changes... Press Ctrl+C to stop.\n"
     ]
    }
   ],
   "source": [
    "import csv\n",
    "import yaml\n",
    "import os\n",
    "import time\n",
    "from watchdog.observers import Observer\n",
    "from watchdog.events import FileSystemEventHandler\n",
    "\n",
    "CSV_FILE = \"Network_Data/dataset_full.csv\"\n",
    "\n",
    "def is_number(s):\n",
    "    try:\n",
    "        float(s)\n",
    "        return True\n",
    "    except ValueError:\n",
    "        return False\n",
    "\n",
    "def get_numerical_columns(csv_path):\n",
    "    numerical_columns = []\n",
    "    with open(csv_path, mode='r', encoding='utf-8') as f:\n",
    "        reader = csv.DictReader(f)\n",
    "        first_row = next(reader)  # Use first row to infer types\n",
    "        for col, value in first_row.items():\n",
    "            if is_number(value):\n",
    "                numerical_columns.append(col.upper())\n",
    "    return numerical_columns\n",
    "\n",
    "def write_yaml(columns, csv_path):\n",
    "    yaml_file = os.path.splitext(csv_path)[0] + \"_numerical.yaml\"\n",
    "    with open(yaml_file, 'w', encoding='utf-8') as f:\n",
    "        yaml.dump(columns, f, sort_keys=False)\n",
    "    print(f\"✅ Updated YAML: {yaml_file}\")\n",
    "\n",
    "class CSVHandler(FileSystemEventHandler):\n",
    "    def on_modified(self, event):\n",
    "        if event.src_path.endswith(\".csv\"):\n",
    "            print(f\"Detected change in {event.src_path}\")\n",
    "            numerical_cols = get_numerical_columns(event.src_path)\n",
    "            write_yaml(numerical_cols, event.src_path)\n",
    "\n",
    "# Watch the directory\n",
    "observer = Observer()\n",
    "observer.schedule(CSVHandler(), \".\", recursive=False)\n",
    "observer.start()\n",
    "\n",
    "print(\"🔁 Watching for CSV changes... Press Ctrl+C to stop.\")\n",
    "try:\n",
    "    while True:\n",
    "        time.sleep(1)\n",
    "except KeyboardInterrupt:\n",
    "    observer.stop()\n",
    "observer.join()"
   ]
  }
 ],
 "metadata": {
  "kernelspec": {
   "display_name": "Python 3",
   "language": "python",
   "name": "python3"
  },
  "language_info": {
   "codemirror_mode": {
    "name": "ipython",
    "version": 3
   },
   "file_extension": ".py",
   "mimetype": "text/x-python",
   "name": "python",
   "nbconvert_exporter": "python",
   "pygments_lexer": "ipython3",
   "version": "3.13.7"
  }
 },
 "nbformat": 4,
 "nbformat_minor": 5
}
